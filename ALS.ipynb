{
 "cells": [
  {
   "cell_type": "code",
   "execution_count": 23,
   "metadata": {},
   "outputs": [],
   "source": [
    "import findspark\n",
    "findspark.init()\n",
    "\n",
    "from pyspark.sql import SparkSession\n",
    "from pyspark.conf import SparkConf\n",
    "SparkSession.builder.config(conf=SparkConf())\n",
    "\n",
    "from pyspark.ml.recommendation import ALS\n",
    "from pyspark.ml.evaluation import RegressionEvaluator\n",
    "from pyspark.ml.recommendation import ALS, ALSModel\n"
   ]
  },
  {
   "cell_type": "code",
   "execution_count": 22,
   "metadata": {},
   "outputs": [
    {
     "data": {
      "text/html": [
       "\n",
       "            <div>\n",
       "                <p><b>SparkSession - in-memory</b></p>\n",
       "                \n",
       "        <div>\n",
       "            <p><b>SparkContext</b></p>\n",
       "\n",
       "            <p><a href=\"http://172.16.11.119:4044\">Spark UI</a></p>\n",
       "\n",
       "            <dl>\n",
       "              <dt>Version</dt>\n",
       "                <dd><code>v3.2.4</code></dd>\n",
       "              <dt>Master</dt>\n",
       "                <dd><code>local[*]</code></dd>\n",
       "              <dt>AppName</dt>\n",
       "                <dd><code>ElasticsearchSparkIntegration</code></dd>\n",
       "            </dl>\n",
       "        </div>\n",
       "        \n",
       "            </div>\n",
       "        "
      ],
      "text/plain": [
       "<pyspark.sql.session.SparkSession at 0x1a37ed71090>"
      ]
     },
     "execution_count": 22,
     "metadata": {},
     "output_type": "execute_result"
    }
   ],
   "source": [
    "spark = (SparkSession.builder\n",
    "            .appName(\"ElasticsearchSparkIntegration\")\n",
    "            .config(\"spark.jars.packages\", \"org.elasticsearch:elasticsearch-spark-20_2.12:7.17.14,\")\n",
    "            .getOrCreate())\n",
    "\n",
    "spark"
   ]
  },
  {
   "cell_type": "code",
   "execution_count": 8,
   "metadata": {},
   "outputs": [
    {
     "name": "stdout",
     "output_type": "stream",
     "text": [
      "+-------+--------+------+---------+-----+------------+--------------------+------+\n",
      "|user_id|movie_id|rating|timestamp|title|release_date|            IMDb_URL| genre|\n",
      "+-------+--------+------+---------+-----+------------+--------------------+------+\n",
      "|    196|     242|     3|881250949|Kolya| 24-Jan-1997|http://us.imdb.co...|Comedy|\n",
      "|     63|     242|     3|875747190|Kolya| 24-Jan-1997|http://us.imdb.co...|Comedy|\n",
      "|    226|     242|     5|883888671|Kolya| 24-Jan-1997|http://us.imdb.co...|Comedy|\n",
      "|    154|     242|     3|879138235|Kolya| 24-Jan-1997|http://us.imdb.co...|Comedy|\n",
      "|    306|     242|     5|876503793|Kolya| 24-Jan-1997|http://us.imdb.co...|Comedy|\n",
      "|    296|     242|     4|884196057|Kolya| 24-Jan-1997|http://us.imdb.co...|Comedy|\n",
      "|     34|     242|     5|888601628|Kolya| 24-Jan-1997|http://us.imdb.co...|Comedy|\n",
      "|    271|     242|     4|885844495|Kolya| 24-Jan-1997|http://us.imdb.co...|Comedy|\n",
      "|    201|     242|     4|884110598|Kolya| 24-Jan-1997|http://us.imdb.co...|Comedy|\n",
      "|    209|     242|     4|883589606|Kolya| 24-Jan-1997|http://us.imdb.co...|Comedy|\n",
      "|     35|     242|     2|875459166|Kolya| 24-Jan-1997|http://us.imdb.co...|Comedy|\n",
      "|    354|     242|     5|891180399|Kolya| 24-Jan-1997|http://us.imdb.co...|Comedy|\n",
      "|    199|     242|     5|883782485|Kolya| 24-Jan-1997|http://us.imdb.co...|Comedy|\n",
      "|    113|     242|     2|875075887|Kolya| 24-Jan-1997|http://us.imdb.co...|Comedy|\n",
      "|      1|     242|     5|889751633|Kolya| 24-Jan-1997|http://us.imdb.co...|Comedy|\n",
      "|    173|     242|     5|877556626|Kolya| 24-Jan-1997|http://us.imdb.co...|Comedy|\n",
      "|    360|     242|     4|880353616|Kolya| 24-Jan-1997|http://us.imdb.co...|Comedy|\n",
      "|    234|     242|     4|891033261|Kolya| 24-Jan-1997|http://us.imdb.co...|Comedy|\n",
      "|     14|     242|     4|876964570|Kolya| 24-Jan-1997|http://us.imdb.co...|Comedy|\n",
      "|    309|     242|     4|877370319|Kolya| 24-Jan-1997|http://us.imdb.co...|Comedy|\n",
      "+-------+--------+------+---------+-----+------------+--------------------+------+\n",
      "only showing top 20 rows\n",
      "\n"
     ]
    }
   ],
   "source": [
    "# Convert the final_data DataFrame to a Spark DataFrame\n",
    "spark_final_data = spark.read.csv(\"final_data.csv\", inferSchema=True,header=True)\n",
    "spark_final_data.show()"
   ]
  },
  {
   "cell_type": "code",
   "execution_count": 10,
   "metadata": {},
   "outputs": [],
   "source": [
    "# Split the data into training and testing sets\n",
    "(training, test) = spark_final_data.randomSplit([0.8, 0.2])"
   ]
  },
  {
   "cell_type": "code",
   "execution_count": 17,
   "metadata": {},
   "outputs": [],
   "source": [
    "# Build the recommendation model using ALS on the training data\n",
    "als = ALS(maxIter=20, regParam=0.05, userCol=\"user_id\", itemCol=\"movie_id\", ratingCol=\"rating\", coldStartStrategy=\"drop\")\n",
    "model = als.fit(training)"
   ]
  },
  {
   "cell_type": "code",
   "execution_count": 18,
   "metadata": {},
   "outputs": [
    {
     "name": "stdout",
     "output_type": "stream",
     "text": [
      "Root Mean 0.9518014699749676\n"
     ]
    }
   ],
   "source": [
    "# Evaluate the model by computing the Root Mean Squared Error (RMSE) on the test data\n",
    "predictions = model.transform(test)\n",
    "evaluator = RegressionEvaluator(metricName=\"rmse\", labelCol=\"rating\", predictionCol=\"prediction\")\n",
    "rmse = evaluator.evaluate(predictions)\n",
    "print(f\"Root Mean {rmse}\")"
   ]
  },
  {
   "cell_type": "code",
   "execution_count": 19,
   "metadata": {},
   "outputs": [
    {
     "name": "stdout",
     "output_type": "stream",
     "text": [
      "+-------+---------------------------------------------------------+\n",
      "|user_id|movie_id                                                 |\n",
      "+-------+---------------------------------------------------------+\n",
      "|1      |[516, 906, 169, 647, 408, 1449, 114, 718, 1463, 1062]    |\n",
      "|3      |[1368, 347, 1268, 74, 787, 201, 340, 320, 1001, 1169]    |\n",
      "|6      |[1463, 1021, 1142, 868, 641, 1063, 474, 57, 1129, 525]   |\n",
      "|12     |[1664, 1134, 83, 113, 459, 64, 318, 173, 1612, 1167]     |\n",
      "|13     |[1242, 1473, 337, 1093, 199, 479, 169, 510, 945, 1449]   |\n",
      "|16     |[1473, 1268, 1463, 1169, 174, 12, 50, 64, 127, 318]      |\n",
      "|20     |[1157, 989, 990, 1120, 1483, 1003, 982, 681, 1394, 613]  |\n",
      "|22     |[1589, 868, 1143, 1142, 837, 906, 50, 115, 173, 172]     |\n",
      "|26     |[1463, 127, 483, 98, 50, 1473, 178, 313, 1142, 480]      |\n",
      "|27     |[526, 205, 180, 22, 1282, 272, 318, 113, 589, 924]       |\n",
      "|28     |[1589, 50, 113, 302, 114, 516, 127, 119, 1463, 172]      |\n",
      "|31     |[352, 1203, 1367, 430, 896, 793, 1288, 1463, 641, 987]   |\n",
      "|34     |[718, 1085, 253, 1240, 516, 60, 59, 1466, 61, 960]       |\n",
      "|40     |[1005, 1160, 1157, 1159, 1137, 1466, 1368, 169, 48, 1612]|\n",
      "|44     |[1463, 50, 868, 172, 174, 173, 337, 114, 408, 181]       |\n",
      "|47     |[119, 1097, 1159, 113, 1062, 169, 1344, 1463, 320, 1065] |\n",
      "|52     |[169, 1062, 1463, 1242, 613, 1137, 1194, 963, 694, 543]  |\n",
      "|53     |[1473, 626, 337, 868, 313, 1192, 492, 1438, 915, 1242]   |\n",
      "|54     |[817, 267, 904, 1137, 813, 772, 113, 1286, 833, 1265]    |\n",
      "|57     |[337, 173, 1005, 169, 963, 313, 258, 1058, 1251, 64]     |\n",
      "+-------+---------------------------------------------------------+\n",
      "only showing top 20 rows\n",
      "\n"
     ]
    }
   ],
   "source": [
    "# Generate top movie recommendations for all users\n",
    "userRecs = model.recommendForAllUsers(10)\n",
    "\n",
    "# Show the top recommendations for the first user\n",
    "userRecs.select(\"user_id\", \"recommendations.movie_id\").show(truncate=False)"
   ]
  },
  {
   "cell_type": "code",
   "execution_count": 20,
   "metadata": {},
   "outputs": [
    {
     "name": "stdout",
     "output_type": "stream",
     "text": [
      "Root Mean Squared Error (RMSE): 0.9207993172976006\n",
      "+-------+-----------------------------------------------------+\n",
      "|user_id|movie_id                                             |\n",
      "+-------+-----------------------------------------------------+\n",
      "|1      |[1449, 119, 178, 113, 169, 285, 513, 114, 408, 12]   |\n",
      "|3      |[320, 1368, 340, 1643, 646, 346, 127, 347, 1288, 187]|\n",
      "|6      |[1449, 884, 427, 1463, 474, 493, 483, 603, 1203, 480]|\n",
      "|12     |[318, 64, 1449, 272, 98, 22, 427, 963, 515, 603]     |\n",
      "|13     |[814, 1063, 867, 1203, 868, 430, 909, 848, 484, 1449]|\n",
      "|16     |[1463, 318, 64, 483, 174, 12, 657, 205, 127, 408]    |\n",
      "|20     |[1278, 83, 313, 496, 190, 210, 300, 22, 699, 360]    |\n",
      "|22     |[50, 12, 357, 172, 173, 408, 171, 174, 178, 114]     |\n",
      "|26     |[127, 483, 1449, 64, 50, 100, 174, 191, 318, 199]    |\n",
      "|27     |[1449, 190, 641, 223, 100, 483, 64, 1194, 169, 178]  |\n",
      "|28     |[302, 172, 50, 114, 12, 174, 195, 183, 1449, 181]    |\n",
      "|31     |[320, 1463, 484, 1449, 654, 641, 745, 867, 134, 1368]|\n",
      "|34     |[958, 318, 114, 178, 357, 1449, 19, 515, 64, 1137]   |\n",
      "|40     |[1159, 114, 705, 318, 430, 189, 464, 865, 345, 1463] |\n",
      "|44     |[173, 50, 172, 168, 174, 320, 430, 195, 1169, 12]    |\n",
      "|47     |[408, 320, 340, 170, 179, 1449, 305, 1642, 1368, 475]|\n",
      "|52     |[1449, 64, 318, 963, 427, 113, 178, 515, 483, 272]   |\n",
      "|53     |[64, 318, 1450, 178, 492, 113, 98, 427, 1449, 316]   |\n",
      "|54     |[115, 1005, 958, 302, 272, 64, 114, 318, 1159, 327]  |\n",
      "|57     |[64, 272, 12, 50, 318, 515, 1450, 223, 963, 313]     |\n",
      "+-------+-----------------------------------------------------+\n",
      "only showing top 20 rows\n",
      "\n"
     ]
    }
   ],
   "source": [
    "from pyspark.ml.tuning import CrossValidator, ParamGridBuilder\n",
    "from pyspark.ml.evaluation import RegressionEvaluator\n",
    "\n",
    "# Define the ALS model\n",
    "als = ALS(userCol=\"user_id\", itemCol=\"movie_id\", ratingCol=\"rating\", coldStartStrategy=\"drop\")\n",
    "\n",
    "# Define the parameter grid\n",
    "param_grid = ParamGridBuilder() \\\n",
    "    .addGrid(als.rank, [10, 20, 30]) \\\n",
    "    .addGrid(als.maxIter, [5, 10, 15]) \\\n",
    "    .addGrid(als.regParam, [0.01, 0.1, 1.0]) \\\n",
    "    .build()\n",
    "\n",
    "# Define the evaluator\n",
    "evaluator = RegressionEvaluator(metricName=\"rmse\", labelCol=\"rating\", predictionCol=\"prediction\")\n",
    "\n",
    "# Define the cross-validator\n",
    "cross_validator = CrossValidator(estimator=als,\n",
    "                                 estimatorParamMaps=param_grid,\n",
    "                                 evaluator=evaluator,\n",
    "                                 numFolds=5)\n",
    "\n",
    "# Split the data into training and testing sets\n",
    "(training, test) = spark_final_data.randomSplit([0.8, 0.2])\n",
    "\n",
    "# Fit the cross-validator to the training data\n",
    "cv_model = cross_validator.fit(training)\n",
    "\n",
    "# Make predictions on the test data\n",
    "predictions = cv_model.transform(test)\n",
    "\n",
    "# Evaluate the model\n",
    "rmse = evaluator.evaluate(predictions)\n",
    "print(f\"Root Mean Squared Error (RMSE): {rmse}\")\n",
    "\n",
    "# Get the best model from cross-validation\n",
    "best_model = cv_model.bestModel\n",
    "\n",
    "# Generate top movie recommendations for all users using the best model\n",
    "userRecs = best_model.recommendForAllUsers(10)\n",
    "\n",
    "# Show the top recommendations for the first user\n",
    "userRecs.select(\"user_id\", \"recommendations.movie_id\").show(truncate=False)\n"
   ]
  },
  {
   "cell_type": "code",
   "execution_count": 21,
   "metadata": {},
   "outputs": [
    {
     "name": "stdout",
     "output_type": "stream",
     "text": [
      "Model saved to: best_model\n"
     ]
    }
   ],
   "source": [
    "import shutil\n",
    "\n",
    "# Specify the path where you want to save the model\n",
    "model_path = \"best_model\"\n",
    "\n",
    "# Delete the existing directory if it exists\n",
    "shutil.rmtree(model_path, ignore_errors=True)\n",
    "\n",
    "# Save the ALS model\n",
    "model.save(model_path)\n",
    "\n",
    "print(f\"Model saved to: {model_path}\")\n"
   ]
  }
 ],
 "metadata": {
  "kernelspec": {
   "display_name": "Python 3",
   "language": "python",
   "name": "python3"
  },
  "language_info": {
   "codemirror_mode": {
    "name": "ipython",
    "version": 3
   },
   "file_extension": ".py",
   "mimetype": "text/x-python",
   "name": "python",
   "nbconvert_exporter": "python",
   "pygments_lexer": "ipython3",
   "version": "3.11.3"
  }
 },
 "nbformat": 4,
 "nbformat_minor": 2
}
